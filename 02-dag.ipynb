{
 "cells": [
  {
   "cell_type": "code",
   "execution_count": null,
   "id": "b3981fdd-c67b-4b9e-b684-bbd4f6eee4ae",
   "metadata": {},
   "outputs": [],
   "source": [
    "from datetime import timedelta\n",
    "\n",
    "from snowflake.snowpark import Session\n",
    "from snowflake.snowpark.functions import col\n",
    "from snowflake.core import Root, CreateMode\n",
    "from snowflake.core.database import Database\n",
    "from snowflake.core.schema import Schema\n",
    "from snowflake.core.stage import Stage\n",
    "from snowflake.core.table import Table, TableColumn, PrimaryKey\n",
    "from snowflake.core.task import StoredProcedureCall, Task\n",
    "from snowflake.core.task.dagv1 import DAGOperation, DAG, DAGTask\n",
    "from snowflake.core.warehouse import Warehouse"
   ]
  },
  {
   "cell_type": "code",
   "execution_count": null,
   "id": "7a8b3c4c-95eb-42a6-92cf-e2412b9f151d",
   "metadata": {},
   "outputs": [],
   "source": [
    "connection_params = {\n",
    "    \"connection_name\": \"default\"\n",
    "}\n",
    "\n",
    "session = Session.builder.configs(connection_params).create()"
   ]
  },
  {
   "cell_type": "code",
   "execution_count": null,
   "id": "014f5f14-2394-4d1c-8243-a6a42f2b197c",
   "metadata": {},
   "outputs": [],
   "source": [
    "root = Root(session)\n",
    "database = root.databases['ascend_database']\n",
    "schema = database.schemas['tar']\n",
    "\n",
    "stages = root.databases[database.name].schemas[schema.name].stages\n",
    "stages.create(Stage(name=\"TASKS_STAGE\"))"
   ]
  },
  {
   "cell_type": "code",
   "execution_count": null,
   "id": "ecdf565b-3789-4c4c-8464-e9c75c9335ac",
   "metadata": {},
   "outputs": [],
   "source": [
    "def trunc(session: Session, from_table: str, to_table: str, count: int) -> str:\n",
    "  (\n",
    "    session\n",
    "    .table(from_table)\n",
    "    .limit(count)\n",
    "    .write.save_as_table(to_table)\n",
    "  )\n",
    "  return \"Truncated table successfully created!\"\n",
    "\n",
    "def filter_by_city(session: Session, city: str) -> str:\n",
    "  (\n",
    "    session\n",
    "    .table('ascend_database.tar.\"emp_basic\"')\n",
    "    .filter(col(\"city\") == city)\n",
    "    .limit(10)\n",
    "    .write.save_as_table(\"filter_table\")\n",
    "  )\n",
    "  return \"Filter table successfully created!\""
   ]
  },
  {
   "cell_type": "code",
   "execution_count": null,
   "id": "f01acd4b-cf7c-4bec-b3e4-28896f1ae35c",
   "metadata": {},
   "outputs": [],
   "source": [
    "tasks_stage = f\"{database.name}.{schema.name}.TASKS_STAGE\"\n",
    "\n",
    "task1 = Task(\n",
    "    name=\"task_python_api_trunc\",\n",
    "    definition=StoredProcedureCall(\n",
    "      func=trunc,\n",
    "      stage_location=f\"@{tasks_stage}\",\n",
    "      packages=[\"snowflake-snowpark-python\"],\n",
    "    ),\n",
    "    warehouse=\"ASCEND_WAREHOUSE\",\n",
    "    schedule=timedelta(minutes=1)\n",
    ")\n",
    "\n",
    "task2 = Task(\n",
    "    name=\"task_python_api_filter\",\n",
    "    definition=StoredProcedureCall(\n",
    "      func=filter_by_city,\n",
    "      stage_location=f\"@{tasks_stage}\",\n",
    "      packages=[\"snowflake-snowpark-python\"],\n",
    "    ),\n",
    "    warehouse=\"ASCEND_WAREHOUSE\"\n",
    ")"
   ]
  },
  {
   "cell_type": "code",
   "execution_count": null,
   "id": "dd3b8cc6-3d39-4e9b-99ca-8d417d8b3a74",
   "metadata": {},
   "outputs": [],
   "source": [
    "# create the task in the Snowflake database\n",
    "tasks = schema.tasks\n",
    "trunc_task = tasks.create(task1, mode=CreateMode.or_replace)\n",
    "\n",
    "task2.predecessors = [trunc_task.name]\n",
    "filter_task = tasks.create(task2, mode=CreateMode.or_replace)"
   ]
  },
  {
   "cell_type": "code",
   "execution_count": null,
   "id": "152bae2a-ae3c-4679-a320-26554a3cb3b6",
   "metadata": {},
   "outputs": [],
   "source": [
    "taskiter = tasks.iter()\n",
    "for t in taskiter:\n",
    "    print(t.name)"
   ]
  },
  {
   "cell_type": "code",
   "execution_count": null,
   "id": "30628319-d495-45cc-a351-dbdc5177e63c",
   "metadata": {},
   "outputs": [],
   "source": [
    "trunc_task.resume()"
   ]
  },
  {
   "cell_type": "code",
   "execution_count": null,
   "id": "5fbdd744-4e99-42c8-9e3a-a2dc449584c2",
   "metadata": {},
   "outputs": [],
   "source": [
    "taskiter = tasks.iter()\n",
    "for t in taskiter:\n",
    "    print(\"Name: \", t.name, \"| State: \", t.state)"
   ]
  },
  {
   "cell_type": "code",
   "execution_count": null,
   "id": "83bbb9e4-dbe3-4a9e-92a8-d367053f7c13",
   "metadata": {},
   "outputs": [],
   "source": [
    "trunc_task.suspend()"
   ]
  },
  {
   "cell_type": "code",
   "execution_count": null,
   "id": "db1f3829-fa44-473a-9382-5305f0163a1d",
   "metadata": {},
   "outputs": [],
   "source": [
    "trunc_task.drop()\n",
    "filter_task.drop()"
   ]
  },
  {
   "cell_type": "code",
   "execution_count": null,
   "id": "c1aea231-830d-4b96-ba67-90f3d3c8f7e2",
   "metadata": {},
   "outputs": [],
   "source": [
    "dag_name = \"python_api_dag\"\n",
    "dag = DAG(name=dag_name, schedule=timedelta(days=1))\n",
    "with dag:\n",
    "    dag_task1 = DAGTask(\n",
    "        name=\"task_python_api_trunc\",\n",
    "        definition=StoredProcedureCall(\n",
    "            func=trunc,\n",
    "            stage_location=f\"@{tasks_stage}\",\n",
    "            packages=[\"snowflake-snowpark-python\"]),\n",
    "        warehouse=\"ASCEND_WAREHOUSE\",\n",
    "    )\n",
    "    dag_task2 = DAGTask(\n",
    "        name=\"task_python_api_filter\",\n",
    "        definition=StoredProcedureCall(\n",
    "            func=filter_by_city,\n",
    "            stage_location=f\"@{tasks_stage}\",\n",
    "            packages=[\"snowflake-snowpark-python\"]),\n",
    "        warehouse=\"ASCEND_WAREHOUSE\",\n",
    "    )\n",
    "    dag_task1 >> dag_task2\n",
    "dag_op = DAGOperation(schema)\n",
    "dag_op.deploy(dag, mode=CreateMode.or_replace)"
   ]
  },
  {
   "cell_type": "code",
   "execution_count": null,
   "id": "1311672c-4c35-4cc8-a58f-b20510b2b08c",
   "metadata": {},
   "outputs": [],
   "source": [
    "taskiter = tasks.iter()\n",
    "for t in taskiter:\n",
    "    print(\"Name: \", t.name, \"| State: \", t.state)"
   ]
  },
  {
   "cell_type": "code",
   "execution_count": null,
   "id": "20907a2d-31ac-4f6f-a234-4226fa231b49",
   "metadata": {},
   "outputs": [],
   "source": [
    "dag_op.run(dag)"
   ]
  },
  {
   "cell_type": "code",
   "execution_count": null,
   "id": "4dc536b0-4ed2-4a7d-8652-f99eb8ccafee",
   "metadata": {},
   "outputs": [],
   "source": [
    "# dag_op.drop(dag)"
   ]
  }
 ],
 "metadata": {
  "kernelspec": {
   "display_name": "Python 3 (ipykernel)",
   "language": "python",
   "name": "python3"
  },
  "language_info": {
   "codemirror_mode": {
    "name": "ipython",
    "version": 3
   },
   "file_extension": ".py",
   "mimetype": "text/x-python",
   "name": "python",
   "nbconvert_exporter": "python",
   "pygments_lexer": "ipython3",
   "version": "3.11.10"
  }
 },
 "nbformat": 4,
 "nbformat_minor": 5
}
