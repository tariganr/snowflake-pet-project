{
 "cells": [
  {
   "cell_type": "code",
   "execution_count": null,
   "id": "85630783-fecf-4bb2-b875-3fe35d5cec51",
   "metadata": {},
   "outputs": [],
   "source": [
    "from datetime import timedelta\n",
    "\n",
    "from snowflake.snowpark import Session\n",
    "from snowflake.snowpark.functions import col\n",
    "from snowflake.core import Root, CreateMode\n",
    "from snowflake.core.database import Database\n",
    "from snowflake.core.schema import Schema\n",
    "from snowflake.core.stage import Stage\n",
    "from snowflake.core.table import Table, TableColumn, PrimaryKey\n",
    "from snowflake.core.task import StoredProcedureCall, Task\n",
    "from snowflake.core.task.dagv1 import DAGOperation, DAG, DAGTask\n",
    "from snowflake.core.warehouse import Warehouse"
   ]
  },
  {
   "cell_type": "code",
   "execution_count": null,
   "id": "1f589160-1a34-4a69-8395-41e243c5e245",
   "metadata": {},
   "outputs": [],
   "source": [
    "connection_params = {\n",
    "    \"connection_name\": \"default\"\n",
    "}"
   ]
  },
  {
   "cell_type": "code",
   "execution_count": null,
   "id": "e532cf87-3b14-40ce-88c9-7de636c803ab",
   "metadata": {},
   "outputs": [],
   "source": [
    "session = Session.builder.configs(connection_params).create()"
   ]
  },
  {
   "cell_type": "code",
   "execution_count": null,
   "id": "87bfde8a-0b8d-4647-87d5-d3cf646d0b23",
   "metadata": {},
   "outputs": [],
   "source": [
    "df_table = session.table('\"emp_basic\"')"
   ]
  },
  {
   "cell_type": "code",
   "execution_count": null,
   "id": "b816fbb7-31a1-4d76-84f3-ab14193a2dcc",
   "metadata": {},
   "outputs": [],
   "source": [
    "df_table.show()"
   ]
  },
  {
   "cell_type": "code",
   "execution_count": null,
   "id": "695bcb42-eebb-4e65-8701-a9d9158e8910",
   "metadata": {},
   "outputs": [],
   "source": [
    "root = Root(session)"
   ]
  },
  {
   "cell_type": "code",
   "execution_count": null,
   "id": "36107c4f-bf26-43ed-a89f-4fc0d35ab8a5",
   "metadata": {},
   "outputs": [],
   "source": [
    "database = root.databases['ascend_database']"
   ]
  },
  {
   "cell_type": "code",
   "execution_count": null,
   "id": "2da95611-625d-42b0-b739-1129edde3290",
   "metadata": {},
   "outputs": [],
   "source": [
    "schema = database.schemas['tar']"
   ]
  },
  {
   "cell_type": "code",
   "execution_count": null,
   "id": "9b270f13-f988-45ad-af44-b84ebe9d7e93",
   "metadata": {},
   "outputs": [],
   "source": [
    "table = schema.tables.create(\n",
    "  Table(\n",
    "    name=\"python_api_table\",\n",
    "    columns=[\n",
    "      TableColumn(\n",
    "        name=\"TEMPERATURE\",\n",
    "        datatype=\"int\",\n",
    "        nullable=False,\n",
    "      ),\n",
    "      TableColumn(\n",
    "        name=\"LOCATION\",\n",
    "        datatype=\"string\",\n",
    "      ),\n",
    "    ],\n",
    "  ),\n",
    "mode=CreateMode.or_replace\n",
    ")"
   ]
  },
  {
   "cell_type": "code",
   "execution_count": null,
   "id": "2595aaf2-c256-4ab3-a198-86f8b811eafc",
   "metadata": {},
   "outputs": [],
   "source": [
    "table_details = table.fetch()"
   ]
  },
  {
   "cell_type": "code",
   "execution_count": null,
   "id": "f3492718-902a-477e-bc9a-5f91a01a4235",
   "metadata": {},
   "outputs": [],
   "source": [
    "table_details.to_dict()"
   ]
  },
  {
   "cell_type": "code",
   "execution_count": null,
   "id": "95da68c8-3ae4-4bf9-812e-57729c4a20c8",
   "metadata": {},
   "outputs": [],
   "source": [
    "table_details.columns.append(\n",
    "    TableColumn(\n",
    "      name=\"elevation\",\n",
    "      datatype=\"int\",\n",
    "      nullable=False,\n",
    "      constraints=[PrimaryKey()],\n",
    "    )\n",
    ")"
   ]
  },
  {
   "cell_type": "code",
   "execution_count": null,
   "id": "76d7e705-2e73-4e3b-b7ca-aa9724efada9",
   "metadata": {},
   "outputs": [],
   "source": [
    "table.create_or_alter(table_details)"
   ]
  },
  {
   "cell_type": "code",
   "execution_count": null,
   "id": "1772b967-b50f-4e8b-b09a-49ab0958bbf6",
   "metadata": {},
   "outputs": [],
   "source": [
    "table.fetch().to_dict()"
   ]
  }
 ],
 "metadata": {
  "kernelspec": {
   "display_name": "Python 3 (ipykernel)",
   "language": "python",
   "name": "python3"
  },
  "language_info": {
   "codemirror_mode": {
    "name": "ipython",
    "version": 3
   },
   "file_extension": ".py",
   "mimetype": "text/x-python",
   "name": "python",
   "nbconvert_exporter": "python",
   "pygments_lexer": "ipython3",
   "version": "3.11.10"
  }
 },
 "nbformat": 4,
 "nbformat_minor": 5
}
